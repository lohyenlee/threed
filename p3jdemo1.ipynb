{
 "cells": [
  {
   "cell_type": "markdown",
   "id": "9489a042-4c22-45da-95ce-b5d6da96897f",
   "metadata": {},
   "source": [
    "# 3D Graphics in JupyterLab using pythreejs\n",
    "## Part 1: Pure pythreejs"
   ]
  },
  {
   "cell_type": "markdown",
   "id": "213eae4e-df9d-49f8-975d-70b6f3316842",
   "metadata": {},
   "source": [
    "*Yen Lee Loh (2023-5-16, 2023-6-5)*"
   ]
  },
  {
   "cell_type": "markdown",
   "id": "8a8216cb-a718-4810-be23-10bb901ee303",
   "metadata": {},
   "source": [
    "### Example 1: Rendering a single object (*Mesh*)"
   ]
  },
  {
   "cell_type": "markdown",
   "id": "e839ca5a-4c18-4bf7-bb5f-ff11d5d2f410",
   "metadata": {},
   "source": [
    "Before using this notebook, you should install `pythreejs` in a conda environment as follows.  This is tricky because `jupyterlab_widgets=3.0.6` is incompatible with `pythreejs=2.4.2`. so one has to install specific older versions of various packages.  The following commands worked on Linux as of 2023-6-8:\n",
    "\n",
    "    conda deactivate\n",
    "    conda remove -n p3j --all\n",
    "    conda create -n p3j\n",
    "    conda activate p3j\n",
    "    conda install -c conda-forge jupyterlab=3.6.3         #for backward compat with jw=3.0.5\n",
    "    conda install -c conda-forge jupyterlab_widgets=3.0.5 #for backward compat with pythreejs=2.4.2\n",
    "    conda install -c conda-forge pythreejs                #this fails if jw>=3.0.6\n",
    "\n",
    "After opening this notebook in JupyterLab, run the cell below:"
   ]
  },
  {
   "cell_type": "code",
   "execution_count": 1,
   "id": "ab9f1d6a-1a9a-4c62-8ae1-29cb3271069f",
   "metadata": {
    "tags": []
   },
   "outputs": [
    {
     "data": {
      "application/vnd.jupyter.widget-view+json": {
       "model_id": "7cc2fa064e5045b888138a8bea80206a",
       "version_major": 2,
       "version_minor": 0
      },
      "text/plain": [
       "Mesh(geometry=CylinderBufferGeometry(height=6.0, heightSegments=24, radialSegments=24, radiusBottom=2.0, radiu…"
      ]
     },
     "execution_count": 1,
     "metadata": {},
     "output_type": "execute_result"
    }
   ],
   "source": [
    "import pythreejs as ptj\n",
    "material = ptj.MeshPhongMaterial (color='#9999FF')\n",
    "geometry  = ptj.CylinderBufferGeometry(radiusTop=0.0, radiusBottom=2.0, height=6, radialSegments=24, heightSegments=24)\n",
    "mesh     = ptj.Mesh(geometry, material)\n",
    "mesh"
   ]
  },
  {
   "cell_type": "markdown",
   "id": "bbbcc238-cf97-4527-bbd2-ba3d760f13f8",
   "metadata": {},
   "source": [
    "You should see a blue cone.  You should be able to rotate and zoom the 3D scene using your mouse or trackpad.  If this doesn't work, please contact Yen Lee Loh."
   ]
  },
  {
   "cell_type": "markdown",
   "id": "bc08a27f-ddb8-437a-afff-41649480ac09",
   "metadata": {},
   "source": [
    "### Example 2: Rendering objects using a *Renderer*"
   ]
  },
  {
   "cell_type": "markdown",
   "id": "912e9ca0-180f-4fde-894e-248005a01bf1",
   "metadata": {},
   "source": [
    "The following code should draw a sphere, cylinder, cone, and torus:"
   ]
  },
  {
   "cell_type": "code",
   "execution_count": 2,
   "id": "d8cdf05c-4dbf-4fbe-a470-4f2dd9b1d989",
   "metadata": {
    "tags": []
   },
   "outputs": [
    {
     "data": {
      "application/vnd.jupyter.widget-view+json": {
       "model_id": "0c5753d0f305487fac45de798f5cb4b7",
       "version_major": 2,
       "version_minor": 0
      },
      "text/plain": [
       "Renderer(camera=PerspectiveCamera(aspect=1.3333333333333333, children=(DirectionalLight(color='white', intensi…"
      ]
     },
     "metadata": {},
     "output_type": "display_data"
    }
   ],
   "source": [
    "geometry = ptj.SphereBufferGeometry(radius=2.0, widthSegments=24, heightSegments=24)\n",
    "material = ptj.MeshPhongMaterial (color='#99FFFF')\n",
    "mesh1    = ptj.Mesh(geometry, material)\n",
    "geometry = ptj.CylinderBufferGeometry(radiusTop=1.0, radiusBottom=1.0, height=4, radialSegments=24, heightSegments=24)\n",
    "mesh2    = ptj.Mesh(geometry, material)\n",
    "mesh2.position = (0,2,0)\n",
    "geometry  = ptj.CylinderBufferGeometry(radiusTop=0.0, radiusBottom=2.0, height=4, radialSegments=24, heightSegments=24)\n",
    "mesh3    = ptj.Mesh(geometry, material)\n",
    "mesh3.position = (0,6,0)\n",
    "material = ptj.MeshPhongMaterial (color='#FFFF99')\n",
    "geometry = ptj.TorusBufferGeometry(radius=3.0, tube=1.0, radialSegments=24, tubularSegments=48)\n",
    "mesh4    = ptj.Mesh(geometry, material)\n",
    "mesh4.position = (7,0,0)   #mesh4.quaternion = (.8,0,0,.6)\n",
    "lightA   = ptj.AmbientLight(color='#777777')\n",
    "lightD   = ptj.DirectionalLight(color='white', position=[3,5,1], intensity=0.5)\n",
    "camera   = ptj.PerspectiveCamera(position=[0,0,30], up=[0,1,0], children=[lightD], aspect=640/480)\n",
    "scene    = ptj.Scene(children=[mesh1,mesh2,mesh3,mesh4, camera, lightA], alpha=True, clearOpacity=0)\n",
    "controls = [ptj.OrbitControls(controlling=camera)]\n",
    "renderer = ptj.Renderer(scene, camera, controls, antialias=True, width=640, height=480)\n",
    "display(renderer)"
   ]
  }
 ],
 "metadata": {
  "kernelspec": {
   "display_name": "Python 3 (ipykernel)",
   "language": "python",
   "name": "python3"
  },
  "language_info": {
   "codemirror_mode": {
    "name": "ipython",
    "version": 3
   },
   "file_extension": ".py",
   "mimetype": "text/x-python",
   "name": "python",
   "nbconvert_exporter": "python",
   "pygments_lexer": "ipython3",
   "version": "3.11.3"
  }
 },
 "nbformat": 4,
 "nbformat_minor": 5
}
