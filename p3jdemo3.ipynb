{
 "cells": [
  {
   "cell_type": "markdown",
   "id": "6f58b121-db85-48bd-884f-62deef9edbcf",
   "metadata": {},
   "source": [
    "# 3D Graphics in JupyterLab using pythreejs: Part 3"
   ]
  },
  {
   "cell_type": "markdown",
   "id": "213eae4e-df9d-49f8-975d-70b6f3316842",
   "metadata": {},
   "source": [
    "*Yen Lee Loh (2023-6-16)*"
   ]
  },
  {
   "cell_type": "code",
   "execution_count": 10,
   "id": "abe84748-10c9-4cbc-8b6d-9d782665aa14",
   "metadata": {
    "tags": []
   },
   "outputs": [],
   "source": [
    "import numpy as np\n",
    "import pythreejs as p3j\n",
    "import threed"
   ]
  },
  {
   "cell_type": "code",
   "execution_count": 11,
   "id": "7d4bc6e6-479d-431d-b1ac-7e67896c6d89",
   "metadata": {
    "tags": []
   },
   "outputs": [],
   "source": [
    "import importlib; importlib.reload (threed);  # Developer use"
   ]
  },
  {
   "cell_type": "markdown",
   "id": "7e642001-1137-4dad-af1c-331bf41053f6",
   "metadata": {},
   "source": [
    "## Example asdf"
   ]
  },
  {
   "cell_type": "code",
   "execution_count": 12,
   "id": "ab47030b-522b-4f19-8c30-5a51b7162ca3",
   "metadata": {
    "tags": []
   },
   "outputs": [
    {
     "data": {
      "application/vnd.jupyter.widget-view+json": {
       "model_id": "5407ae90baa34662a9399574da915138",
       "version_major": 2,
       "version_minor": 0
      },
      "text/plain": [
       "Renderer(camera=PerspectiveCamera(aspect=1.3333333333333333, children=(DirectionalLight(color='#FFFFFF', posit…"
      ]
     },
     "execution_count": 12,
     "metadata": {},
     "output_type": "execute_result"
    }
   ],
   "source": [
    "objects = []\n",
    "objects.append ( threed.cylinder ([0,0,0], [1,0,0], radius=.1, color='#FF0000') ) # red x axis\n",
    "objects.append ( threed.cylinder ([0,0,0], [0,1,0], radius=.1, color='#00FF00') ) # green y axis\n",
    "objects.append ( threed.cylinder ([0,0,0], [0,0,1], radius=.1, color='#0000FF') ) # blue z axis\n",
    "theta = np.radians(30)\n",
    "phi   = np.radians(60)\n",
    "\n",
    "pos   = (np.sin(theta)*np.cos(phi), np.sin(theta)*np.sin(phi), np.cos(theta))\n",
    "objects.append ( threed.sphere (pos, radius=.1, color='#FFFF00') )\n",
    "objects.append ( threed.cylinder ([0,0,0], pos, radius=.05, color='#CCCCCC') )\n",
    "for n in range(0,360,5):\n",
    "    theta = np.radians(90)\n",
    "    phi = np.radians(n)\n",
    "    r0 = (np.sin(theta)*np.cos(phi), np.sin(theta)*np.sin(phi), np.cos(theta))\n",
    "    phi = np.radians(n+5)\n",
    "    r1 = (np.sin(theta)*np.cos(phi), np.sin(theta)*np.sin(phi), np.cos(theta))\n",
    "    objects.append ( threed.cylinder (r0, r1, .1)  )\n",
    "    objects.append ( threed.cylinder (np.roll(r0,1), np.roll(r1,1), .1)  )\n",
    "    objects.append ( threed.cylinder (np.roll(r0,2), np.roll(r1,2), .1)  )\n",
    "\n",
    "threed.render (objects, zoomOut=1,\n",
    "               camOri=threed.chooseCameraOrientation (e=np.radians(20), a=np.radians(30)))"
   ]
  },
  {
   "cell_type": "code",
   "execution_count": null,
   "id": "88a2a701-6006-4cd6-ab3c-d4dd51414259",
   "metadata": {},
   "outputs": [],
   "source": []
  }
 ],
 "metadata": {
  "kernelspec": {
   "display_name": "Python 3 (ipykernel)",
   "language": "python",
   "name": "python3"
  },
  "language_info": {
   "codemirror_mode": {
    "name": "ipython",
    "version": 3
   },
   "file_extension": ".py",
   "mimetype": "text/x-python",
   "name": "python",
   "nbconvert_exporter": "python",
   "pygments_lexer": "ipython3",
   "version": "3.11.3"
  }
 },
 "nbformat": 4,
 "nbformat_minor": 5
}
