{
 "cells": [
  {
   "cell_type": "markdown",
   "id": "494a121e-6ce3-434b-98a4-764585dd28f0",
   "metadata": {
    "tags": []
   },
   "source": [
    "<div class='alert alert-success'>\n",
    "    <h1>3D Demonstrations</h1>\n",
    "    <h3>Yen Lee Loh</h3>\n",
    "    <h4>2023-1-17 </h4>\n",
    "</div>"
   ]
  },
  {
   "cell_type": "code",
   "execution_count": 1,
   "id": "abe84748-10c9-4cbc-8b6d-9d782665aa14",
   "metadata": {},
   "outputs": [],
   "source": [
    "import importlib; import threed; importlib.reload (threed); from threed import *\n",
    "import itertools\n",
    "def dump(expr):\n",
    "  if isinstance(expr, np.ndarray) and len(expr.shape) >= 2:\n",
    "    print (expr, '=\\n', eval(expr))\n",
    "  else:\n",
    "    print (expr, '=', eval(expr))    "
   ]
  },
  {
   "cell_type": "code",
   "execution_count": 2,
   "id": "40476521-c126-48b6-9042-390f16ef050c",
   "metadata": {},
   "outputs": [
    {
     "data": {
      "application/vnd.jupyter.widget-view+json": {
       "model_id": "62af2e5213a947e094c56ddfe797f354",
       "version_major": 2,
       "version_minor": 0
      },
      "text/plain": [
       "Preview(child=Scene(children=(Mesh(geometry=SphereBufferGeometry(heightSegments=24, widthSegments=24), materia…"
      ]
     },
     "metadata": {},
     "output_type": "display_data"
    }
   ],
   "source": [
    "#======== Draw a dumbbell using functions supplied by Loh's threed wrapper\n",
    "objects = []\n",
    "objects.append( sphere([1,1,1], 0.5,color='#99FFFF') )\n",
    "objects.append( sphere([2,2,2], 0.5,color='#FFFF99') )\n",
    "objects.append( cylinder([1,1,1], [2,2,2], 0.2, color='#99FF99') )\n",
    "scene = Scene(children=[*objects])\n",
    "scene"
   ]
  },
  {
   "cell_type": "code",
   "execution_count": 3,
   "id": "d0611930-5044-403d-9442-43137a810798",
   "metadata": {},
   "outputs": [
    {
     "data": {
      "application/vnd.jupyter.widget-view+json": {
       "model_id": "e7662885ff1f4ae2a83f55f49d4b5517",
       "version_major": 2,
       "version_minor": 0
      },
      "text/plain": [
       "Renderer(camera=PerspectiveCamera(aspect=1.3333333333333333, children=(DirectionalLight(color='#FFFFFF', posit…"
      ]
     },
     "metadata": {},
     "output_type": "display_data"
    }
   ],
   "source": [
    "#======== If we want more control over the result, we have to supply more details ourselves\n",
    "render(objects, cameraPosition=[0,-1,0], viewCenter=[1.5,1.5,1.5], imageSize=[512,384])"
   ]
  },
  {
   "cell_type": "code",
   "execution_count": 18,
   "id": "97641883-b8eb-41d9-a2d9-65aadec9d635",
   "metadata": {},
   "outputs": [
    {
     "data": {
      "application/vnd.jupyter.widget-view+json": {
       "model_id": "31f673c9d136494e8475eb40df2f65e1",
       "version_major": 2,
       "version_minor": 0
      },
      "text/plain": [
       "Renderer(camera=PerspectiveCamera(aspect=1.3333333333333333, children=(DirectionalLight(color='#FFFFFF', posit…"
      ]
     },
     "metadata": {},
     "output_type": "display_data"
    }
   ],
   "source": [
    "#======== DRAW A COLLECTION OF ATOMS WITH AUTOMATIC BONDS\n",
    "#rad = np.array([[0,0,0],[1,0,0],[-1,0,0],[0,1,0],[0,-1,0]])\n",
    "rad = np.array([[0,0,0],[1,0,0],[0,1,0],[0,0,1],[0,1,1],[1,1,0],[1,0,1],[1,1,1]]) * 5\n",
    "#rng = np.random.default_rng ()\n",
    "#rad = rng.uniform (low=0, high=5, size=[9,3])\n",
    "objects = []\n",
    "for rd in rad:\n",
    "  objects.append ( sphere (rd, radius=1, color='#9999FF') )\n",
    "bondLengths = [np.linalg.norm(rdB-rdA) for rdA,rdB in itertools.combinations(rad, 2)]\n",
    "maxLength = np.min (bondLengths) * 1.01\n",
    "for rdA,rdB in itertools.combinations (rad, 2):\n",
    "  if np.linalg.norm(rdB-rdA) < maxLength:\n",
    "    objects.append ( cylinder (rdA, rdB, radius=.2, color='#99FF99') )\n",
    "  \n",
    "#======== DETERMINE viewCenter AND cameraPosition AUTOMATICALLY\n",
    "elev = 30 * np.pi/180\n",
    "azim = 5 * np.pi/180\n",
    "viewCenter = np.mean (rad, axis=0)\n",
    "viewExtent = np.max (np.linalg.norm(rad - viewCenter, axis=0))\n",
    "viewFoV = 50 * np.pi/180\n",
    "viewDistance = viewExtent  / np.tan (viewFoV/2)\n",
    "cameraPosition = viewCenter + viewDistance * np.array([np.cos(elev)*np.cos(azim),np.cos(elev)*np.sin(azim),np.sin(elev)]) # not sure about math\n",
    "#======== DETERMINE viewCenter AND cameraPosition AUTOMATICALLY\n",
    "render (objects, imageSize=[512,384], cameraPosition=tuple(cameraPosition), fov=viewFoV*180/np.pi, viewCenter=tuple(viewCenter))"
   ]
  },
  {
   "cell_type": "code",
   "execution_count": 57,
   "id": "ecb55684-0c7e-4b2c-be7b-029c8f9248b3",
   "metadata": {},
   "outputs": [
    {
     "name": "stdout",
     "output_type": "stream",
     "text": [
      "rdCenter = [2.5 2.5 0.5]\n",
      "viewDistance = 10.754560133614763\n"
     ]
    },
    {
     "data": {
      "application/vnd.jupyter.widget-view+json": {
       "model_id": "7b89ca9bb06d4d63b63a37a0727beabe",
       "version_major": 2,
       "version_minor": 0
      },
      "text/plain": [
       "Renderer(camera=PerspectiveCamera(aspect=1.3333333333333333, children=(DirectionalLight(color='#FFFFFF', posit…"
      ]
     },
     "metadata": {},
     "output_type": "display_data"
    }
   ],
   "source": [
    "#======== DRAW A UNIT CELL (WHICH DOUBLES UP AS A BOUNDING BOX)\n",
    "Jld = np.diag([5,5,1])\n",
    "objects = []\n",
    "rnd = np.array([[0,0,0],[1,0,0],[0,1,0],[0,0,1],[0,1,1],[1,1,0],[1,0,1],[1,1,1]]) @ Jld # bounding box corners\n",
    "rdCenter = np.mean (rnd, axis=0)     # view center\n",
    "for rd in rnd:\n",
    "  objects.append ( sphere (rd, radius=.05, color='#9999FF') ) # mark each corner\n",
    "for u in [0,1]:\n",
    "  for v in [0,1]:\n",
    "    for w in [0,1,2]:\n",
    "      rdA = np.roll ([u,v,0], w) @ Jld\n",
    "      rdB = np.roll ([u,v,1], w) @ Jld\n",
    "      objects.append ( cylinder (rdA, rdB, radius=.2, color='#99FF99') )\n",
    "      \n",
    "#======== GIVEN THESE PARAMETERS\n",
    "width,height = 512,384  # pixels\n",
    "elev,azim = 60,45       # degrees\n",
    "fov = 50                # degrees\n",
    "cameraUp = [0,0,1] \n",
    "#======== DETERMINE viewCenter AND cameraPosition AUTOMATICALLY TO FIT SCENE IN VIEW\n",
    "e=elev*np.pi/180; a=azim*np.pi/180\n",
    "cameraFw = -np.array([np.cos(e)*np.cos(a),np.cos(e)*np.sin(a),np.sin(e)])\n",
    "JldCam = lookAt (cameraFw, cameraUp)\n",
    "unl = (rnd - rdCenter) @ JldCam.T\n",
    "beta = fov*np.pi/180; q = 1/np.tan(beta/2); p = 1/np.tan(beta/2)*width/height\n",
    "viewDistance = max( [w + max(p*abs(u), q*abs(v)) for u,v,w in unl] )\n",
    " \n",
    "dump ('rdCenter')\n",
    "dump ('viewDistance')\n",
    "cameraPosition = rdCenter - viewDistance * cameraFw\n",
    "render (objects, imageSize=[width,height], cameraPosition=tuple(cameraPosition), fov=fov, viewCenter=tuple(rdCenter))"
   ]
  },
  {
   "cell_type": "code",
   "execution_count": 49,
   "id": "dcba8d0b-9025-46e9-8992-55ce8283f773",
   "metadata": {},
   "outputs": [
    {
     "name": "stdout",
     "output_type": "stream",
     "text": [
      "rdCenter = [2.5 2.5 0.5]\n",
      "viewDistance = 36.24178200849264\n"
     ]
    },
    {
     "data": {
      "application/vnd.jupyter.widget-view+json": {
       "model_id": "7c048dadd7ce456dbd5e10d29066510e",
       "version_major": 2,
       "version_minor": 0
      },
      "text/plain": [
       "Renderer(camera=PerspectiveCamera(aspect=1.3333333333333333, children=(DirectionalLight(color='#FFFFFF', posit…"
      ]
     },
     "metadata": {},
     "output_type": "display_data"
    }
   ],
   "source": []
  },
  {
   "cell_type": "markdown",
   "id": "43009c25-8a1c-425a-8080-5412afc08863",
   "metadata": {},
   "source": [
    "For a perspective camera, we are given the vertical angular field of view (FoV) $\\beta$, which is typically 50 degrees, and the aspect ratio of the camera view $Y/X$.\n",
    "Let $q = \\cot\\frac{\\beta}{2}$ and $p = \\frac{X}{Y} \\cot\\frac{\\beta}{2}$.\n",
    "\n",
    "Now, take the bounding box corners $r_{nd}$ and perform the following.\n",
    "1. Translate so that view center is at origin.\n",
    "2. Rotate about origin so that viewing direction is (0,0,-1).\n",
    "3. For each coordinate $(x_d,y_d,z_d)$, calculate $z_n + \\max (p \\left|x_n\\right|, q \\left|y_n\\right|)$\n",
    "4. Set the view distance to be $z = \\max_n z_n$.  That is, put the camera position at CoM - ..."
   ]
  },
  {
   "cell_type": "code",
   "execution_count": 30,
   "id": "6e891a9e-3440-4eec-a2d0-e3c7058ddde2",
   "metadata": {},
   "outputs": [
    {
     "data": {
      "text/plain": [
       "3.4"
      ]
     },
     "execution_count": 30,
     "metadata": {},
     "output_type": "execute_result"
    }
   ],
   "source": [
    "abs(-3.4)"
   ]
  },
  {
   "cell_type": "code",
   "execution_count": 6,
   "id": "ea1dd759-0d5d-4cba-a51d-e8eafd2eff1d",
   "metadata": {},
   "outputs": [
    {
     "data": {
      "application/vnd.jupyter.widget-view+json": {
       "model_id": "2539b41f7f2b40ed8a908fe4fa8f37cc",
       "version_major": 2,
       "version_minor": 0
      },
      "text/plain": [
       "Renderer(camera=PerspectiveCamera(aspect=1.3333333333333333, children=(DirectionalLight(color='#FFFFFF', posit…"
      ]
     },
     "metadata": {},
     "output_type": "display_data"
    }
   ],
   "source": [
    "= \n",
    "Xn =m\n",
    "\n",
    "\n",
    "viewExtent = np.max (np.linalg.norm(rad - viewCenter, axis=0))\n",
    "viewFoV = 50 * np.pi/180\n",
    "viewDistance = viewExtent  / np.tan (viewFoV/2)\n",
    "cameraPosition = viewCenter + viewDistance * np.array([np.cos(elev)*np.cos(azim),np.cos(elev)*np.sin(azim),np.sin(elev)]) # not sure about math\n",
    "#======== DETERMINE viewCenter AND cameraPosition AUTOMATICALLY\n",
    "render (objects, imageSize=[512,384], cameraPosition=tuple(cameraPosition), fov=viewFoV*180/np.pi, viewCenter=tuple(viewCenter))"
   ]
  },
  {
   "cell_type": "markdown",
   "id": "1abcc071-4cb7-4eed-a598-0daa43b8140e",
   "metadata": {
    "jp-MarkdownHeadingCollapsed": true,
    "tags": []
   },
   "source": [
    "<div class=\"alert alert-info\"><h2>  Trying to convert 3D display to image (difficult(  </h2></div>"
   ]
  },
  {
   "cell_type": "code",
   "execution_count": 5,
   "id": "dc6c7e6a-7a40-4f9a-babe-c49f4d60b3e8",
   "metadata": {},
   "outputs": [
    {
     "data": {
      "application/vnd.jupyter.widget-view+json": {
       "model_id": "400c175daa8a4f40a65ebbfaab4db411",
       "version_major": 2,
       "version_minor": 0
      },
      "text/plain": [
       "Preview(child=CylinderBufferGeometry(height=24.0, radialSegments=24, radiusBottom=5.0, radiusTop=0.0), shadowM…"
      ]
     },
     "metadata": {},
     "output_type": "display_data"
    }
   ],
   "source": [
    "geom = CylinderBufferGeometry(0,5,24,24)\n",
    "geom"
   ]
  },
  {
   "cell_type": "code",
   "execution_count": 7,
   "id": "e3643a0f-ee58-4f45-ab33-6f96c0228ed9",
   "metadata": {},
   "outputs": [
    {
     "ename": "AttributeError",
     "evalue": "'CylinderBufferGeometry' object has no attribute 'rotateZ'",
     "output_type": "error",
     "traceback": [
      "\u001b[0;31m---------------------------------------------------------------------------\u001b[0m",
      "\u001b[0;31mAttributeError\u001b[0m                            Traceback (most recent call last)",
      "Input \u001b[0;32mIn [7]\u001b[0m, in \u001b[0;36m<cell line: 1>\u001b[0;34m()\u001b[0m\n\u001b[0;32m----> 1\u001b[0m \u001b[43mgeom\u001b[49m\u001b[38;5;241;43m.\u001b[39;49m\u001b[43mrotateZ\u001b[49m()\n",
      "\u001b[0;31mAttributeError\u001b[0m: 'CylinderBufferGeometry' object has no attribute 'rotateZ'"
     ]
    }
   ],
   "source": [
    "geom.rotateZ()"
   ]
  },
  {
   "cell_type": "code",
   "execution_count": 8,
   "id": "f8850883-ec88-4d67-a97c-ee17f8e8a29a",
   "metadata": {},
   "outputs": [
    {
     "data": {
      "application/vnd.jupyter.widget-view+json": {
       "model_id": "9b1be3e365d14c9d8c6b0a08e106982d",
       "version_major": 2,
       "version_minor": 0
      },
      "text/plain": [
       "Preview(child=CylinderBufferGeometry(height=24.0, radialSegments=24, radiusBottom=5.0, radiusTop=0.0), shadowM…"
      ]
     },
     "metadata": {},
     "output_type": "display_data"
    }
   ],
   "source": [
    "geom.exec_three_obj_method ('rotateZ', np.pi/2)\n",
    "geom"
   ]
  },
  {
   "cell_type": "code",
   "execution_count": null,
   "id": "ff46e25a-a935-43f0-b6f4-6a681734ccb3",
   "metadata": {},
   "outputs": [],
   "source": []
  },
  {
   "cell_type": "code",
   "execution_count": 110,
   "id": "c56fd11e-78fb-4498-b2a1-6fa6234ab666",
   "metadata": {},
   "outputs": [],
   "source": [
    "#help (RenderableWidget)"
   ]
  },
  {
   "cell_type": "code",
   "execution_count": 67,
   "id": "b671fff1-38d6-4c53-8bc1-8cc30243b597",
   "metadata": {},
   "outputs": [
    {
     "ename": "AttributeError",
     "evalue": "'Renderer' object has no attribute 'exec_three_obj_method'",
     "output_type": "error",
     "traceback": [
      "\u001b[0;31m---------------------------------------------------------------------------\u001b[0m",
      "\u001b[0;31mAttributeError\u001b[0m                            Traceback (most recent call last)",
      "Input \u001b[0;32mIn [67]\u001b[0m, in \u001b[0;36m<cell line: 10>\u001b[0;34m()\u001b[0m\n\u001b[1;32m      7\u001b[0m renderer \u001b[38;5;241m=\u001b[39m Renderer(camera\u001b[38;5;241m=\u001b[39mcamera, scene\u001b[38;5;241m=\u001b[39mscene, controls\u001b[38;5;241m=\u001b[39m[controller],\n\u001b[1;32m      8\u001b[0m                     width\u001b[38;5;241m=\u001b[39mview_width, height\u001b[38;5;241m=\u001b[39mview_height)\n\u001b[1;32m      9\u001b[0m renderTarget \u001b[38;5;241m=\u001b[39m WebGLRenderTarget()\n\u001b[0;32m---> 10\u001b[0m \u001b[43mrenderer\u001b[49m\u001b[38;5;241;43m.\u001b[39;49m\u001b[43mexec_three_obj_method\u001b[49m (setRenderTarget, renderTarget)\n\u001b[1;32m     11\u001b[0m renderer\n",
      "\u001b[0;31mAttributeError\u001b[0m: 'Renderer' object has no attribute 'exec_three_obj_method'"
     ]
    }
   ],
   "source": [
    "sphere = Mesh(SphereBufferGeometry(1,24,24), MeshPhongMaterial(color='#660000'))\n",
    "camera = PerspectiveCamera( position=[0, 0, 5], aspect=view_width/view_height)\n",
    "key_light = DirectionalLight(position=[0, 10, 10])\n",
    "ambient_light = AmbientLight()\n",
    "scene = Scene(children=[sphere, camera, key_light, ambient_light])\n",
    "controller = OrbitControls(controlling=camera)\n",
    "renderer = Renderer(camera=camera, scene=scene, controls=[controller],\n",
    "                    width=view_width, height=view_height)\n",
    "renderTarget = WebGLRenderTarget()\n",
    "renderer.exec_three_obj_method (setRenderTarget, renderTarget)\n",
    "renderer\n"
   ]
  },
  {
   "cell_type": "code",
   "execution_count": null,
   "id": "1ae621c0-66f9-4966-be00-c175515b74b7",
   "metadata": {},
   "outputs": [],
   "source": [
    "  renderer.setRenderTarget(renderTarget);\n",
    "  renderer.render(rtScene, rtCamera);"
   ]
  },
  {
   "cell_type": "code",
   "execution_count": 53,
   "id": "34634a45-46fb-4ea2-8c50-91e94bc9e5dc",
   "metadata": {},
   "outputs": [
    {
     "data": {
      "application/vnd.jupyter.widget-view+json": {
       "model_id": "ba96d7d62343482a905b72363597f0da",
       "version_major": 2,
       "version_minor": 0
      },
      "text/plain": [
       "Preview(child=WebGLRenderTarget(), shadowMap=WebGLShadowMap())"
      ]
     },
     "metadata": {},
     "output_type": "display_data"
    }
   ],
   "source": [
    "renderTarget = WebGLRenderTarget()\n",
    "renderTarget"
   ]
  },
  {
   "cell_type": "code",
   "execution_count": null,
   "id": "30d93262-b365-44fc-8a87-9fbe25c68316",
   "metadata": {},
   "outputs": [],
   "source": [
    "\n",
    " |  exec_three_obj_method(self, method_name, *args, **kwargs)\n",
    " |      Execute a method on the three object.\n",
    " |      \n",
    " |      Excute the method specified by `method_name` on the three\n",
    " |      object, with arguments `args`. `kwargs` is currently ignored.\n",
    " |  \n",
    " |  ---------------------------------"
   ]
  },
  {
   "cell_type": "code",
   "execution_count": 68,
   "id": "1bea2e3c-8f54-4b76-9fe0-4a3cc13c338b",
   "metadata": {},
   "outputs": [
    {
     "name": "stdout",
     "output_type": "stream",
     "text": [
      "Help on Renderer in module pythreejs.core.Renderer object:\n",
      "\n",
      "class Renderer(pythreejs._base.renderable.RenderableWidget)\n",
      " |  Renderer(scene, camera, controls=None, *, width=200, height=200, background='black', background_opacity=1.0, **kwargs)\n",
      " |  \n",
      " |  Renderer\n",
      " |  \n",
      " |  Method resolution order:\n",
      " |      Renderer\n",
      " |      pythreejs._base.renderable.RenderableWidget\n",
      " |      ipywidgets.widgets.domwidget.DOMWidget\n",
      " |      ipywidgets.widgets.widget.Widget\n",
      " |      ipywidgets.widgets.widget.LoggingHasTraits\n",
      " |      traitlets.traitlets.HasTraits\n",
      " |      traitlets.traitlets.HasDescriptors\n",
      " |      builtins.object\n",
      " |  \n",
      " |  Methods defined here:\n",
      " |  \n",
      " |  __init__(self, scene, camera, controls=None, antialias=False, alpha=False, webgl_version=2, **kwargs)\n",
      " |      Public constructor\n",
      " |  \n",
      " |  freeze(self)\n",
      " |  \n",
      " |  hold(self)\n",
      " |  \n",
      " |  render(self, scene, camera)\n",
      " |  \n",
      " |  ----------------------------------------------------------------------\n",
      " |  Data descriptors defined here:\n",
      " |  \n",
      " |  background\n",
      " |  \n",
      " |  background_opacity\n",
      " |  \n",
      " |  camera\n",
      " |  \n",
      " |  controls\n",
      " |  \n",
      " |  height\n",
      " |  \n",
      " |  scene\n",
      " |  \n",
      " |  width\n",
      " |  \n",
      " |  ----------------------------------------------------------------------\n",
      " |  Data and other attributes defined here:\n",
      " |  \n",
      " |  __signature__ = <Signature (scene, camera, controls=None, *, wid...rou...\n",
      " |  \n",
      " |  ----------------------------------------------------------------------\n",
      " |  Methods inherited from pythreejs._base.renderable.RenderableWidget:\n",
      " |  \n",
      " |  log(self, msg)\n",
      " |  \n",
      " |  send_msg(self, message_type, payload=None)\n",
      " |  \n",
      " |  ----------------------------------------------------------------------\n",
      " |  Data descriptors inherited from pythreejs._base.renderable.RenderableWidget:\n",
      " |  \n",
      " |  autoClear\n",
      " |  \n",
      " |  autoClearColor\n",
      " |  \n",
      " |  autoClearDepth\n",
      " |  \n",
      " |  autoClearStencil\n",
      " |  \n",
      " |  clearColor\n",
      " |  \n",
      " |  clearOpacity\n",
      " |  \n",
      " |  clippingPlanes\n",
      " |  \n",
      " |  gammaFactor\n",
      " |  \n",
      " |  gammaInput\n",
      " |  \n",
      " |  gammaOutput\n",
      " |  \n",
      " |  localClippingEnabled\n",
      " |  \n",
      " |  maxMorphNormals\n",
      " |  \n",
      " |  maxMorphTargets\n",
      " |  \n",
      " |  physicallyCorrectLights\n",
      " |  \n",
      " |  shadowMap\n",
      " |  \n",
      " |  sortObject\n",
      " |  \n",
      " |  toneMapping\n",
      " |  \n",
      " |  toneMappingExposure\n",
      " |  \n",
      " |  toneMappingWhitePoint\n",
      " |  \n",
      " |  ----------------------------------------------------------------------\n",
      " |  Methods inherited from ipywidgets.widgets.domwidget.DOMWidget:\n",
      " |  \n",
      " |  add_class(self, className)\n",
      " |      Adds a class to the top level element of the widget.\n",
      " |      \n",
      " |      Doesn't add the class if it already exists.\n",
      " |  \n",
      " |  remove_class(self, className)\n",
      " |      Removes a class from the top level element of the widget.\n",
      " |      \n",
      " |      Doesn't remove the class if it doesn't exist.\n",
      " |  \n",
      " |  ----------------------------------------------------------------------\n",
      " |  Data descriptors inherited from ipywidgets.widgets.domwidget.DOMWidget:\n",
      " |  \n",
      " |  layout\n",
      " |  \n",
      " |  ----------------------------------------------------------------------\n",
      " |  Methods inherited from ipywidgets.widgets.widget.Widget:\n",
      " |  \n",
      " |  __del__(self)\n",
      " |      Object disposal\n",
      " |  \n",
      " |  __repr__(self)\n",
      " |      Return repr(self).\n",
      " |  \n",
      " |  add_traits(self, **traits)\n",
      " |      Dynamically add trait attributes to the Widget.\n",
      " |  \n",
      " |  close(self)\n",
      " |      Close method.\n",
      " |      \n",
      " |      Closes the underlying comm.\n",
      " |      When the comm is closed, all of the widget views are automatically\n",
      " |      removed from the front-end.\n",
      " |  \n",
      " |  get_state(self, key=None, drop_defaults=False)\n",
      " |      Gets the widget state, or a piece of it.\n",
      " |      \n",
      " |      Parameters\n",
      " |      ----------\n",
      " |      key : unicode or iterable (optional)\n",
      " |          A single property's name or iterable of property names to get.\n",
      " |      \n",
      " |      Returns\n",
      " |      -------\n",
      " |      state : dict of states\n",
      " |      metadata : dict\n",
      " |          metadata for each field: {key: metadata}\n",
      " |  \n",
      " |  get_view_spec(self)\n",
      " |  \n",
      " |  hold_sync(self)\n",
      " |      Hold syncing any state until the outermost context manager exits\n",
      " |  \n",
      " |  notify_change(self, change)\n",
      " |      Called when a property has changed.\n",
      " |  \n",
      " |  on_displayed(self, callback, remove=False)\n",
      " |      (Un)Register a widget displayed callback.\n",
      " |      \n",
      " |      Parameters\n",
      " |      ----------\n",
      " |      callback: method handler\n",
      " |          Must have a signature of::\n",
      " |      \n",
      " |              callback(widget, **kwargs)\n",
      " |      \n",
      " |          kwargs from display are passed through without modification.\n",
      " |      remove: bool\n",
      " |          True if the callback should be unregistered.\n",
      " |  \n",
      " |  on_msg(self, callback, remove=False)\n",
      " |      (Un)Register a custom msg receive callback.\n",
      " |      \n",
      " |      Parameters\n",
      " |      ----------\n",
      " |      callback: callable\n",
      " |          callback will be passed three arguments when a message arrives::\n",
      " |      \n",
      " |              callback(widget, content, buffers)\n",
      " |      \n",
      " |      remove: bool\n",
      " |          True if the callback should be unregistered.\n",
      " |  \n",
      " |  open(self)\n",
      " |      Open a comm to the frontend if one isn't already open.\n",
      " |  \n",
      " |  send(self, content, buffers=None)\n",
      " |      Sends a custom msg to the widget model in the front-end.\n",
      " |      \n",
      " |      Parameters\n",
      " |      ----------\n",
      " |      content : dict\n",
      " |          Content of the message to send.\n",
      " |      buffers : list of binary buffers\n",
      " |          Binary buffers to send with message\n",
      " |  \n",
      " |  send_state(self, key=None)\n",
      " |      Sends the widget state, or a piece of it, to the front-end, if it exists.\n",
      " |      \n",
      " |      Parameters\n",
      " |      ----------\n",
      " |      key : unicode, or iterable (optional)\n",
      " |          A single property's name or iterable of property names to sync with the front-end.\n",
      " |  \n",
      " |  set_state(self, sync_data)\n",
      " |      Called when a state is received from the front-end.\n",
      " |  \n",
      " |  ----------------------------------------------------------------------\n",
      " |  Class methods inherited from ipywidgets.widgets.widget.Widget:\n",
      " |  \n",
      " |  close_all() from traitlets.traitlets.MetaHasTraits\n",
      " |  \n",
      " |  ----------------------------------------------------------------------\n",
      " |  Static methods inherited from ipywidgets.widgets.widget.Widget:\n",
      " |  \n",
      " |  get_manager_state(drop_defaults=False, widgets=None)\n",
      " |      Returns the full state for a widget manager for embedding\n",
      " |      \n",
      " |      :param drop_defaults: when True, it will not include default value\n",
      " |      :param widgets: list with widgets to include in the state (or all widgets when None)\n",
      " |      :return:\n",
      " |  \n",
      " |  handle_comm_opened(comm, msg)\n",
      " |      Static method, called when a widget is constructed.\n",
      " |  \n",
      " |  on_widget_constructed(callback)\n",
      " |      Registers a callback to be called when a widget is constructed.\n",
      " |      \n",
      " |      The callback must have the following signature:\n",
      " |      callback(widget)\n",
      " |  \n",
      " |  ----------------------------------------------------------------------\n",
      " |  Readonly properties inherited from ipywidgets.widgets.widget.Widget:\n",
      " |  \n",
      " |  model_id\n",
      " |      Gets the model id of this widget.\n",
      " |      \n",
      " |      If a Comm doesn't exist yet, a Comm will be created automagically.\n",
      " |  \n",
      " |  ----------------------------------------------------------------------\n",
      " |  Data descriptors inherited from ipywidgets.widgets.widget.Widget:\n",
      " |  \n",
      " |  comm\n",
      " |  \n",
      " |  keys\n",
      " |      The traits which are synced.\n",
      " |  \n",
      " |  ----------------------------------------------------------------------\n",
      " |  Data and other attributes inherited from ipywidgets.widgets.widget.Widget:\n",
      " |  \n",
      " |  widget_types = <ipywidgets.widgets.widget.WidgetRegistry object>\n",
      " |  \n",
      " |  widgets = {'000c4e20-eb2b-41c1-9a91-51c66041095a': OrthographicCamera(...\n",
      " |  \n",
      " |  ----------------------------------------------------------------------\n",
      " |  Methods inherited from traitlets.traitlets.HasTraits:\n",
      " |  \n",
      " |  __getstate__(self)\n",
      " |  \n",
      " |  __setstate__(self, state)\n",
      " |  \n",
      " |  has_trait(self, name)\n",
      " |      Returns True if the object has a trait with the specified name.\n",
      " |  \n",
      " |  hold_trait_notifications(self)\n",
      " |      Context manager for bundling trait change notifications and cross\n",
      " |      validation.\n",
      " |      \n",
      " |      Use this when doing multiple trait assignments (init, config), to avoid\n",
      " |      race conditions in trait notifiers requesting other trait values.\n",
      " |      All trait notifications will fire after all values have been assigned.\n",
      " |  \n",
      " |  observe(self, handler, names=traitlets.All, type='change')\n",
      " |      Setup a handler to be called when a trait changes.\n",
      " |      \n",
      " |      This is used to setup dynamic notifications of trait changes.\n",
      " |      \n",
      " |      Parameters\n",
      " |      ----------\n",
      " |      handler : callable\n",
      " |          A callable that is called when a trait changes. Its\n",
      " |          signature should be ``handler(change)``, where ``change`` is a\n",
      " |          dictionary. The change dictionary at least holds a 'type' key.\n",
      " |          * ``type``: the type of notification.\n",
      " |          Other keys may be passed depending on the value of 'type'. In the\n",
      " |          case where type is 'change', we also have the following keys:\n",
      " |          * ``owner`` : the HasTraits instance\n",
      " |          * ``old`` : the old value of the modified trait attribute\n",
      " |          * ``new`` : the new value of the modified trait attribute\n",
      " |          * ``name`` : the name of the modified trait attribute.\n",
      " |      names : list, str, All\n",
      " |          If names is All, the handler will apply to all traits.  If a list\n",
      " |          of str, handler will apply to all names in the list.  If a\n",
      " |          str, the handler will apply just to that name.\n",
      " |      type : str, All (default: 'change')\n",
      " |          The type of notification to filter by. If equal to All, then all\n",
      " |          notifications are passed to the observe handler.\n",
      " |  \n",
      " |  on_trait_change(self, handler=None, name=None, remove=False)\n",
      " |      DEPRECATED: Setup a handler to be called when a trait changes.\n",
      " |      \n",
      " |      This is used to setup dynamic notifications of trait changes.\n",
      " |      \n",
      " |      Static handlers can be created by creating methods on a HasTraits\n",
      " |      subclass with the naming convention '_[traitname]_changed'.  Thus,\n",
      " |      to create static handler for the trait 'a', create the method\n",
      " |      _a_changed(self, name, old, new) (fewer arguments can be used, see\n",
      " |      below).\n",
      " |      \n",
      " |      If `remove` is True and `handler` is not specified, all change\n",
      " |      handlers for the specified name are uninstalled.\n",
      " |      \n",
      " |      Parameters\n",
      " |      ----------\n",
      " |      handler : callable, None\n",
      " |          A callable that is called when a trait changes.  Its\n",
      " |          signature can be handler(), handler(name), handler(name, new),\n",
      " |          handler(name, old, new), or handler(name, old, new, self).\n",
      " |      name : list, str, None\n",
      " |          If None, the handler will apply to all traits.  If a list\n",
      " |          of str, handler will apply to all names in the list.  If a\n",
      " |          str, the handler will apply just to that name.\n",
      " |      remove : bool\n",
      " |          If False (the default), then install the handler.  If True\n",
      " |          then unintall it.\n",
      " |  \n",
      " |  set_trait(self, name, value)\n",
      " |      Forcibly sets trait attribute, including read-only attributes.\n",
      " |  \n",
      " |  setup_instance(*args, **kwargs)\n",
      " |      This is called **before** self.__init__ is called.\n",
      " |  \n",
      " |  trait_defaults(self, *names, **metadata)\n",
      " |      Return a trait's default value or a dictionary of them\n",
      " |      \n",
      " |      Notes\n",
      " |      -----\n",
      " |      Dynamically generated default values may\n",
      " |      depend on the current state of the object.\n",
      " |  \n",
      " |  trait_has_value(self, name)\n",
      " |      Returns True if the specified trait has a value.\n",
      " |      \n",
      " |      This will return false even if ``getattr`` would return a\n",
      " |      dynamically generated default value. These default values\n",
      " |      will be recognized as existing only after they have been\n",
      " |      generated.\n",
      " |      \n",
      " |      Example\n",
      " |      \n",
      " |      .. code-block:: python\n",
      " |      \n",
      " |          class MyClass(HasTraits):\n",
      " |              i = Int()\n",
      " |      \n",
      " |          mc = MyClass()\n",
      " |          assert not mc.trait_has_value(\"i\")\n",
      " |          mc.i # generates a default value\n",
      " |          assert mc.trait_has_value(\"i\")\n",
      " |  \n",
      " |  trait_metadata(self, traitname, key, default=None)\n",
      " |      Get metadata values for trait by key.\n",
      " |  \n",
      " |  trait_names(self, **metadata)\n",
      " |      Get a list of all the names of this class' traits.\n",
      " |  \n",
      " |  trait_values(self, **metadata)\n",
      " |      A ``dict`` of trait names and their values.\n",
      " |      \n",
      " |      The metadata kwargs allow functions to be passed in which\n",
      " |      filter traits based on metadata values.  The functions should\n",
      " |      take a single value as an argument and return a boolean.  If\n",
      " |      any function returns False, then the trait is not included in\n",
      " |      the output.  If a metadata key doesn't exist, None will be passed\n",
      " |      to the function.\n",
      " |      \n",
      " |      Returns\n",
      " |      -------\n",
      " |      A ``dict`` of trait names and their values.\n",
      " |      \n",
      " |      Notes\n",
      " |      -----\n",
      " |      Trait values are retrieved via ``getattr``, any exceptions raised\n",
      " |      by traits or the operations they may trigger will result in the\n",
      " |      absence of a trait value in the result ``dict``.\n",
      " |  \n",
      " |  traits(self, **metadata)\n",
      " |      Get a ``dict`` of all the traits of this class.  The dictionary\n",
      " |      is keyed on the name and the values are the TraitType objects.\n",
      " |      \n",
      " |      The TraitTypes returned don't know anything about the values\n",
      " |      that the various HasTrait's instances are holding.\n",
      " |      \n",
      " |      The metadata kwargs allow functions to be passed in which\n",
      " |      filter traits based on metadata values.  The functions should\n",
      " |      take a single value as an argument and return a boolean.  If\n",
      " |      any function returns False, then the trait is not included in\n",
      " |      the output.  If a metadata key doesn't exist, None will be passed\n",
      " |      to the function.\n",
      " |  \n",
      " |  unobserve(self, handler, names=traitlets.All, type='change')\n",
      " |      Remove a trait change handler.\n",
      " |      \n",
      " |      This is used to unregister handlers to trait change notifications.\n",
      " |      \n",
      " |      Parameters\n",
      " |      ----------\n",
      " |      handler : callable\n",
      " |          The callable called when a trait attribute changes.\n",
      " |      names : list, str, All (default: All)\n",
      " |          The names of the traits for which the specified handler should be\n",
      " |          uninstalled. If names is All, the specified handler is uninstalled\n",
      " |          from the list of notifiers corresponding to all changes.\n",
      " |      type : str or All (default: 'change')\n",
      " |          The type of notification to filter by. If All, the specified handler\n",
      " |          is uninstalled from the list of notifiers corresponding to all types.\n",
      " |  \n",
      " |  unobserve_all(self, name=traitlets.All)\n",
      " |      Remove trait change handlers of any type for the specified name.\n",
      " |      If name is not specified, removes all trait notifiers.\n",
      " |  \n",
      " |  ----------------------------------------------------------------------\n",
      " |  Class methods inherited from traitlets.traitlets.HasTraits:\n",
      " |  \n",
      " |  class_own_trait_events(name) from traitlets.traitlets.MetaHasTraits\n",
      " |      Get a dict of all event handlers defined on this class, not a parent.\n",
      " |      \n",
      " |      Works like ``event_handlers``, except for excluding traits from parents.\n",
      " |  \n",
      " |  class_own_traits(**metadata) from traitlets.traitlets.MetaHasTraits\n",
      " |      Get a dict of all the traitlets defined on this class, not a parent.\n",
      " |      \n",
      " |      Works like `class_traits`, except for excluding traits from parents.\n",
      " |  \n",
      " |  class_trait_names(**metadata) from traitlets.traitlets.MetaHasTraits\n",
      " |      Get a list of all the names of this class' traits.\n",
      " |      \n",
      " |      This method is just like the :meth:`trait_names` method,\n",
      " |      but is unbound.\n",
      " |  \n",
      " |  class_traits(**metadata) from traitlets.traitlets.MetaHasTraits\n",
      " |      Get a ``dict`` of all the traits of this class.  The dictionary\n",
      " |      is keyed on the name and the values are the TraitType objects.\n",
      " |      \n",
      " |      This method is just like the :meth:`traits` method, but is unbound.\n",
      " |      \n",
      " |      The TraitTypes returned don't know anything about the values\n",
      " |      that the various HasTrait's instances are holding.\n",
      " |      \n",
      " |      The metadata kwargs allow functions to be passed in which\n",
      " |      filter traits based on metadata values.  The functions should\n",
      " |      take a single value as an argument and return a boolean.  If\n",
      " |      any function returns False, then the trait is not included in\n",
      " |      the output.  If a metadata key doesn't exist, None will be passed\n",
      " |      to the function.\n",
      " |  \n",
      " |  trait_events(name=None) from traitlets.traitlets.MetaHasTraits\n",
      " |      Get a ``dict`` of all the event handlers of this class.\n",
      " |      \n",
      " |      Parameters\n",
      " |      ----------\n",
      " |      name : str (default: None)\n",
      " |          The name of a trait of this class. If name is ``None`` then all\n",
      " |          the event handlers of this class will be returned instead.\n",
      " |      \n",
      " |      Returns\n",
      " |      -------\n",
      " |      The event handlers associated with a trait name, or all event handlers.\n",
      " |  \n",
      " |  ----------------------------------------------------------------------\n",
      " |  Readonly properties inherited from traitlets.traitlets.HasTraits:\n",
      " |  \n",
      " |  cross_validation_lock\n",
      " |      A contextmanager for running a block with our cross validation lock set\n",
      " |      to True.\n",
      " |      \n",
      " |      At the end of the block, the lock's value is restored to its value\n",
      " |      prior to entering the block.\n",
      " |  \n",
      " |  ----------------------------------------------------------------------\n",
      " |  Static methods inherited from traitlets.traitlets.HasDescriptors:\n",
      " |  \n",
      " |  __new__(*args, **kwargs)\n",
      " |      Create and return a new object.  See help(type) for accurate signature.\n",
      " |  \n",
      " |  ----------------------------------------------------------------------\n",
      " |  Data descriptors inherited from traitlets.traitlets.HasDescriptors:\n",
      " |  \n",
      " |  __dict__\n",
      " |      dictionary for instance variables (if defined)\n",
      " |  \n",
      " |  __weakref__\n",
      " |      list of weak references to the object (if defined)\n",
      "\n"
     ]
    }
   ],
   "source": [
    "help(renderer)"
   ]
  },
  {
   "cell_type": "code",
   "execution_count": 44,
   "id": "0e189eea-01a9-4542-a16a-3217f07625a4",
   "metadata": {},
   "outputs": [
    {
     "data": {
      "application/vnd.jupyter.widget-view+json": {
       "model_id": "02996dca14044165afcc9d8db7c5ca6c",
       "version_major": 2,
       "version_minor": 0
      },
      "text/plain": [
       "Renderer(camera=PerspectiveCamera(aspect=1.5, position=(10.0, 6.0, 10.0), projectionMatrix=(1.0, 0.0, 0.0, 0.0…"
      ]
     },
     "metadata": {},
     "output_type": "display_data"
    }
   ],
   "source": [
    "from pythreejs import *\n",
    "import ipywebrtc\n",
    "import ipywidgets as widgets\n",
    "from ipywebrtc import ImageRecorder, VideoStream\n",
    "from ipywidgets import Output, VBox\n",
    "\n",
    "view_width = 600\n",
    "view_height = 400\n",
    "\n",
    "sphere = Mesh(\n",
    "    SphereBufferGeometry(1, 32, 16),\n",
    "    MeshStandardMaterial(color='red')\n",
    ")\n",
    "\n",
    "cube = Mesh(\n",
    "    BoxBufferGeometry(1, 1, 1),\n",
    "    MeshPhysicalMaterial(color='green'),\n",
    "    position=[2, 0, 4]\n",
    ")\n",
    "\n",
    "camera = PerspectiveCamera( position=[10, 6, 10], aspect=view_width/view_height)\n",
    "key_light = DirectionalLight(position=[0, 10, 10])\n",
    "ambient_light = AmbientLight()\n",
    "\n",
    "scene = Scene(children=[sphere, cube, camera, key_light, ambient_light])\n",
    "controller = OrbitControls(controlling=camera)\n",
    "renderer = Renderer(camera=camera, scene=scene, controls=[controller],\n",
    "                    width=view_width, height=view_height)\n",
    "renderer"
   ]
  },
  {
   "cell_type": "code",
   "execution_count": 45,
   "id": "d2707a80-2274-4827-af3d-cd7f902e3130",
   "metadata": {},
   "outputs": [
    {
     "data": {
      "application/vnd.jupyter.widget-view+json": {
       "model_id": "ec3f46addbab45638f4236ea9ab27ef6",
       "version_major": 2,
       "version_minor": 0
      },
      "text/plain": [
       "WidgetStream(max_fps=5, widget=Renderer(camera=PerspectiveCamera(aspect=1.5, position=(10.0, 6.0, 10.0), proje…"
      ]
     },
     "metadata": {},
     "output_type": "display_data"
    }
   ],
   "source": [
    "stream = ipywebrtc.WidgetStream(widget=renderer, max_fps=5)\n",
    "image_recorder = ImageRecorder(stream=stream,filename='test', format='png')\n",
    "image_recorder.recording = True\n",
    "\n",
    "image_recorder.autosave = True\n",
    "\n",
    "asdf = image_recorder.download()\n",
    "\n",
    "image_recorder.image.height\n",
    "stream"
   ]
  }
 ],
 "metadata": {
  "kernelspec": {
   "display_name": "Python 3 (ipykernel)",
   "language": "python",
   "name": "python3"
  },
  "language_info": {
   "codemirror_mode": {
    "name": "ipython",
    "version": 3
   },
   "file_extension": ".py",
   "mimetype": "text/x-python",
   "name": "python",
   "nbconvert_exporter": "python",
   "pygments_lexer": "ipython3",
   "version": "3.9.12"
  }
 },
 "nbformat": 4,
 "nbformat_minor": 5
}
