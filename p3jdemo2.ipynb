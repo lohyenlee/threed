{
 "cells": [
  {
   "cell_type": "markdown",
   "id": "2474a9c4-4821-4b8f-8543-9f8f264c34e1",
   "metadata": {},
   "source": [
    "# 3D Graphics in JupyterLab using pythreejs\n",
    "## Part 2: The *threed* module by Yen Lee Loh"
   ]
  },
  {
   "cell_type": "markdown",
   "id": "213eae4e-df9d-49f8-975d-70b6f3316842",
   "metadata": {},
   "source": [
    "*Yen Lee Loh (2023-5-16, 2023-6-8)*"
   ]
  },
  {
   "cell_type": "markdown",
   "id": "2880c73f-2b0f-444a-a6cf-50c1b085024b",
   "metadata": {},
   "source": [
    "On its own, pythreejs is inconvenient for various reasons:\n",
    "- pythreejs.TorusBufferGeometry creates a torus whose symmetry axis is the z axis.\n",
    "- pythreejs.CylinderBufferGeometry creates a frustum whose symmetry axis is the y axis.\n",
    "- It is not easy to reorient these shapes along desired directions.\n",
    "\n",
    "The `threed` module includes wrapper functions and utility functions to make 3D graphics easier.  It is demonstrated in the examples below.\n",
    "\n",
    "Run this Jupyter notebook one cell at a time.  (If you run the whole notebook at once, the 3D graphics may fail to render.)"
   ]
  },
  {
   "cell_type": "markdown",
   "id": "f2239a42-43f4-4bed-ad6f-c01ca595c926",
   "metadata": {},
   "source": [
    "## Example 1: Draw a dumbbell using `threed.sphere` and `threed.cylinder`"
   ]
  },
  {
   "cell_type": "markdown",
   "id": "915d958f-fc27-4a97-8d0a-6a7e08f0627c",
   "metadata": {},
   "source": [
    "Make sure that `threed.py` and `monospace.png` are in the same directory as this notebook file.  Import the `threed` module:"
   ]
  },
  {
   "cell_type": "code",
   "execution_count": 19,
   "id": "abe84748-10c9-4cbc-8b6d-9d782665aa14",
   "metadata": {
    "tags": []
   },
   "outputs": [],
   "source": [
    "import threed\n",
    "import pythreejs as p3j\n",
    "import importlib; importlib.reload (threed);  # Developer use"
   ]
  },
  {
   "cell_type": "markdown",
   "id": "2b1bf7d3-2dab-4ec8-91a7-88f4f35b746c",
   "metadata": {},
   "source": [
    "Create a list called `objects` and populate it.  Each object is actually a `pythreejs.Mesh`.  As a quick test, combine the objects into a `pythreejs.Scene`:"
   ]
  },
  {
   "cell_type": "code",
   "execution_count": 20,
   "id": "40476521-c126-48b6-9042-390f16ef050c",
   "metadata": {
    "tags": []
   },
   "outputs": [
    {
     "data": {
      "application/vnd.jupyter.widget-view+json": {
       "model_id": "4da434be2f4a4c29981264d5960e656c",
       "version_major": 2,
       "version_minor": 0
      },
      "text/plain": [
       "Scene(children=(Mesh(geometry=SphereBufferGeometry(heightSegments=24, widthSegments=24), material=MeshPhongMat…"
      ]
     },
     "execution_count": 20,
     "metadata": {},
     "output_type": "execute_result"
    }
   ],
   "source": [
    "objects = []\n",
    "objects.append( threed.sphere([1,1,1], 0.5,color='#99FFFF') )\n",
    "objects.append( threed.sphere([2,2,2], 0.5,color='#FFFF99') )\n",
    "objects.append( threed.cylinder([1,1,1], [2,2,2], 0.2, color='#99FF99') )\n",
    "p3j.Scene(children=[*objects])"
   ]
  },
  {
   "cell_type": "markdown",
   "id": "c5194785-da9f-4e82-a568-e774e1debdd4",
   "metadata": {},
   "source": [
    "For serious work we need more control, so we will use `threed.render`.  This is actually a wrapper around `pythreejs.Renderer`:"
   ]
  },
  {
   "cell_type": "code",
   "execution_count": 21,
   "id": "d0611930-5044-403d-9442-43137a810798",
   "metadata": {
    "tags": []
   },
   "outputs": [
    {
     "data": {
      "application/vnd.jupyter.widget-view+json": {
       "model_id": "baf7e170916c4e93abd5abf33565cb84",
       "version_major": 2,
       "version_minor": 0
      },
      "text/plain": [
       "Renderer(camera=PerspectiveCamera(aspect=2.6666666666666665, children=(DirectionalLight(color='#FFFFFF', posit…"
      ]
     },
     "execution_count": 21,
     "metadata": {},
     "output_type": "execute_result"
    }
   ],
   "source": [
    "threed.render (objects, imageSize=[640,240])"
   ]
  },
  {
   "cell_type": "markdown",
   "id": "7e642001-1137-4dad-af1c-331bf41053f6",
   "metadata": {},
   "source": [
    "## Example 2: Axis tripod"
   ]
  },
  {
   "cell_type": "markdown",
   "id": "6bcc2ba4-05ce-4dc3-ba17-173d0a1177f1",
   "metadata": {},
   "source": [
    "As before, create a list called `objects`, whose members are instances of `pythreejs.Mesh`, and pass it to `threed.render`:"
   ]
  },
  {
   "cell_type": "code",
   "execution_count": 4,
   "id": "7205e764-25a1-434d-974d-c45b2dd3bb4e",
   "metadata": {
    "tags": []
   },
   "outputs": [
    {
     "data": {
      "application/vnd.jupyter.widget-view+json": {
       "model_id": "9b4d33395bf841429ce8295b68dc3395",
       "version_major": 2,
       "version_minor": 0
      },
      "text/plain": [
       "Renderer(camera=PerspectiveCamera(aspect=1.3333333333333333, children=(DirectionalLight(color='#FFFFFF', posit…"
      ]
     },
     "execution_count": 4,
     "metadata": {},
     "output_type": "execute_result"
    }
   ],
   "source": [
    "import numpy as np\n",
    "objects = []\n",
    "objects.append ( threed.cylinder ([0,0,0], [4,0,0], radius=.2, color='#FF0000') ) # red x axis\n",
    "objects.append ( threed.cylinder ([0,0,0], [0,4,0], radius=.2, color='#00FF00') ) # green y axis\n",
    "objects.append ( threed.cylinder ([0,0,0], [0,0,4], radius=.2, color='#0000FF') ) # blue z axis\n",
    "objects.append ( threed.sphere ([4,0,0], radius=.6, color='#FF0000') )\n",
    "objects.append ( threed.sphere ([0,4,0], radius=.6, color='#00FF00') )\n",
    "objects.append ( threed.sphere ([0,0,4], radius=.6, color='#0000FF') )\n",
    "threed.render (objects)"
   ]
  },
  {
   "cell_type": "markdown",
   "id": "dd13ab3c-aeff-4db1-ac17-68fe32e9bee9",
   "metadata": {},
   "source": [
    "Click and drag to rotate the above graphic.  The camera rotates around the target point (pivot), which in this case is not the origin..   You may prefer to set it explicitly:"
   ]
  },
  {
   "cell_type": "code",
   "execution_count": 5,
   "id": "4fa1358a-3454-4cc1-b619-5363fcc2e645",
   "metadata": {
    "tags": []
   },
   "outputs": [
    {
     "data": {
      "application/vnd.jupyter.widget-view+json": {
       "model_id": "f725fcbc43b244a59aa4908deb0d3ccf",
       "version_major": 2,
       "version_minor": 0
      },
      "text/plain": [
       "Renderer(camera=PerspectiveCamera(aspect=1.3333333333333333, children=(DirectionalLight(color='#FFFFFF', posit…"
      ]
     },
     "execution_count": 5,
     "metadata": {},
     "output_type": "execute_result"
    }
   ],
   "source": [
    "threed.render (objects, camTgt=(0,0,0))"
   ]
  },
  {
   "cell_type": "markdown",
   "id": "94532704-7694-4e6a-933e-a5e2f09c2d2b",
   "metadata": {},
   "source": [
    "Use `elev` and `azim` to control the camera's viewpoint.  Below, remember that red, green, and blue tubes indicate x, y, and z directions respectively."
   ]
  },
  {
   "cell_type": "code",
   "execution_count": 6,
   "id": "8701eb93-5cb7-4327-9276-73fb7c62a08c",
   "metadata": {
    "tags": []
   },
   "outputs": [
    {
     "data": {
      "application/vnd.jupyter.widget-view+json": {
       "model_id": "c735199c07b945ad82a8cf2f433c005d",
       "version_major": 2,
       "version_minor": 0
      },
      "text/plain": [
       "Renderer(camera=PerspectiveCamera(children=(DirectionalLight(color='#FFFFFF', position=(3.0, 5.0, 1.0), quater…"
      ]
     },
     "execution_count": 6,
     "metadata": {},
     "output_type": "execute_result"
    }
   ],
   "source": [
    "kw = {'camTgt':(0,0,0), 'imageSize':(200,200)}\n",
    "threed.render (objects, elev='0', azim='0', **kw)   # camera is located at (x,0,0) relative to target"
   ]
  },
  {
   "cell_type": "code",
   "execution_count": 7,
   "id": "7f061bd6-ac94-43b0-8c28-4a5511463e00",
   "metadata": {
    "tags": []
   },
   "outputs": [
    {
     "data": {
      "application/vnd.jupyter.widget-view+json": {
       "model_id": "6faf04acb0bf43f2bbd5a61db81c29b1",
       "version_major": 2,
       "version_minor": 0
      },
      "text/plain": [
       "Renderer(camera=PerspectiveCamera(children=(DirectionalLight(color='#FFFFFF', position=(3.0, 5.0, 1.0), quater…"
      ]
     },
     "execution_count": 7,
     "metadata": {},
     "output_type": "execute_result"
    }
   ],
   "source": [
    "threed.render (objects, '0', '90', **kw)  # camera is located at (0,y,0) relative to target"
   ]
  },
  {
   "cell_type": "code",
   "execution_count": 8,
   "id": "2cc44c04-c2a1-426d-b785-4612eec21638",
   "metadata": {
    "tags": []
   },
   "outputs": [
    {
     "data": {
      "application/vnd.jupyter.widget-view+json": {
       "model_id": "219dd19db6d84264a32ac62d51eaf596",
       "version_major": 2,
       "version_minor": 0
      },
      "text/plain": [
       "Renderer(camera=PerspectiveCamera(children=(DirectionalLight(color='#FFFFFF', position=(3.0, 5.0, 1.0), quater…"
      ]
     },
     "execution_count": 8,
     "metadata": {},
     "output_type": "execute_result"
    }
   ],
   "source": [
    "threed.render (objects, '89', '270', **kw)  # look down along +z axis (don't use 90 degrees!)"
   ]
  },
  {
   "cell_type": "code",
   "execution_count": 9,
   "id": "a24f725a-fd21-4995-a111-573efa36f182",
   "metadata": {
    "tags": []
   },
   "outputs": [
    {
     "data": {
      "application/vnd.jupyter.widget-view+json": {
       "model_id": "d4fd996eae9a4179ab67e78667f0d0d9",
       "version_major": 2,
       "version_minor": 0
      },
      "text/plain": [
       "Renderer(camera=PerspectiveCamera(children=(DirectionalLight(color='#FFFFFF', position=(3.0, 5.0, 1.0), quater…"
      ]
     },
     "execution_count": 9,
     "metadata": {},
     "output_type": "execute_result"
    }
   ],
   "source": [
    "threed.render (objects, '-89', '270', **kw)  # look up along +z axis (don't use -90 degrees!)"
   ]
  },
  {
   "cell_type": "markdown",
   "id": "e1b5bd88-00b4-4e10-b6be-69665798e016",
   "metadata": {},
   "source": [
    "## Example 3: Perspective"
   ]
  },
  {
   "cell_type": "code",
   "execution_count": 10,
   "id": "d9b69b98-50d4-4f13-8083-d06a5cfa9cad",
   "metadata": {},
   "outputs": [
    {
     "data": {
      "application/vnd.jupyter.widget-view+json": {
       "model_id": "f97e3ef828c34d17a77490e548116dc3",
       "version_major": 2,
       "version_minor": 0
      },
      "text/plain": [
       "Renderer(camera=PerspectiveCamera(aspect=1.3333333333333333, children=(DirectionalLight(color='#FFFFFF', posit…"
      ]
     },
     "execution_count": 10,
     "metadata": {},
     "output_type": "execute_result"
    }
   ],
   "source": [
    "objects = []\n",
    "for i in range(4):\n",
    "    for j in range(4):\n",
    "        for k in range(4):\n",
    "            objects.append ( threed.sphere ([i,j,k], radius=.5, color='#99CCFF') )\n",
    "threed.render (objects, camFw=[1,1,1], camFov=np.radians(1)) # camera is located in [1,1,1] direction relative to target; narrow FoV causes orthographic projection"
   ]
  },
  {
   "cell_type": "code",
   "execution_count": 11,
   "id": "8398e6e4-779c-49ee-8d00-5f963f251ead",
   "metadata": {},
   "outputs": [
    {
     "data": {
      "application/vnd.jupyter.widget-view+json": {
       "model_id": "b06724ebd7f841b7904921fb47278cc4",
       "version_major": 2,
       "version_minor": 0
      },
      "text/plain": [
       "Renderer(camera=PerspectiveCamera(aspect=1.3333333333333333, children=(DirectionalLight(color='#FFFFFF', posit…"
      ]
     },
     "execution_count": 11,
     "metadata": {},
     "output_type": "execute_result"
    }
   ],
   "source": [
    "threed.render (objects, camFw=[1,1,1], camFov=np.radians(100)) # camera is located in [1,1,1] direction relative to target; wide FoV causes distortion"
   ]
  },
  {
   "cell_type": "markdown",
   "id": "f03e3d49-b150-438e-a9cb-d740456b7ccc",
   "metadata": {},
   "source": [
    "## Example 4: Text"
   ]
  },
  {
   "cell_type": "markdown",
   "id": "82c74fda-4c7f-4214-b421-6a3dbd868486",
   "metadata": {},
   "source": [
    "At the moment `threed.billboard` provides some limited functionality for drawing text in a 3D scene, using the bitmap font atlas `monospace.png`.  The following code makes a billboard with the default orientation (rotation), i.e., text lying in the xy plane.  The default viewpoint is not suitable:"
   ]
  },
  {
   "cell_type": "code",
   "execution_count": 12,
   "id": "0e479561-769b-4421-83f2-37b0119401c9",
   "metadata": {},
   "outputs": [
    {
     "data": {
      "application/vnd.jupyter.widget-view+json": {
       "model_id": "da183aa24f5d48559bf53969fcf0cbcd",
       "version_major": 2,
       "version_minor": 0
      },
      "text/plain": [
       "Renderer(camera=PerspectiveCamera(aspect=1.3333333333333333, children=(DirectionalLight(color='#FFFFFF', posit…"
      ]
     },
     "execution_count": 12,
     "metadata": {},
     "output_type": "execute_result"
    }
   ],
   "source": [
    "objects = []\n",
    "objects.append ( threed.tripod(length=1,radius=.04) )\n",
    "objects.append ( threed.billboard ('Hello world', position=[0, 0, 0]) )\n",
    "threed.render (objects)"
   ]
  },
  {
   "cell_type": "markdown",
   "id": "45815923-8b4b-4640-843f-3d0d6f93e872",
   "metadata": {},
   "source": [
    "The text is readable from a top-down view:"
   ]
  },
  {
   "cell_type": "code",
   "execution_count": 13,
   "id": "4996ef47-46a0-405f-8373-ae031fba0a80",
   "metadata": {},
   "outputs": [
    {
     "data": {
      "application/vnd.jupyter.widget-view+json": {
       "model_id": "a01909fdcdd44610abb7ff13cb1a8a55",
       "version_major": 2,
       "version_minor": 0
      },
      "text/plain": [
       "Renderer(camera=PerspectiveCamera(aspect=1.3333333333333333, children=(DirectionalLight(color='#FFFFFF', posit…"
      ]
     },
     "execution_count": 13,
     "metadata": {},
     "output_type": "execute_result"
    }
   ],
   "source": [
    "threed.render (objects, '89.99', '270', camDist=5)"
   ]
  },
  {
   "cell_type": "markdown",
   "id": "cd187cc8-ea30-4246-aad7-c9133ee0363f",
   "metadata": {},
   "source": [
    "A `threed.billboard` can be customized using the `rotation` and `fontColor` arguments:"
   ]
  },
  {
   "cell_type": "code",
   "execution_count": 14,
   "id": "ecb55684-0c7e-4b2c-be7b-029c8f9248b3",
   "metadata": {
    "tags": []
   },
   "outputs": [
    {
     "data": {
      "application/vnd.jupyter.widget-view+json": {
       "model_id": "486694923151419e8269179700d068b0",
       "version_major": 2,
       "version_minor": 0
      },
      "text/plain": [
       "Renderer(camera=PerspectiveCamera(aspect=1.3333333333333333, children=(DirectionalLight(color='#FFFFFF', posit…"
      ]
     },
     "execution_count": 14,
     "metadata": {},
     "output_type": "execute_result"
    }
   ],
   "source": [
    "Jld = np.diag([5,4,3])\n",
    "objects = []\n",
    "rnd = np.array([[0,0,0],[1,0,0],[0,1,0],[0,0,1],[0,1,1],[1,1,0],[1,0,1],[1,1,1]]) @ Jld # bounding box corners\n",
    "#======== Add spheres at corners of cuboid\n",
    "for rd in rnd:\n",
    "    objects.append ( threed.sphere (rd, radius=.5, color='#9999CC') ) # mark each corner\n",
    "#======== Add cylinders along edges of cuboid\n",
    "for u in [0,1]:\n",
    "    for v in [0,1]:\n",
    "        for w in [0,1,2]:\n",
    "            rdA = np.roll ([u,v,0], w) @ Jld\n",
    "            rdB = np.roll ([u,v,1], w) @ Jld\n",
    "            objects.append ( threed.cylinder (rdA, rdB, radius=.2, color='#9999CC'\n",
    "                                             ) )\n",
    "#======== Label faces of cuboid\n",
    "objects.append ( threed.billboard ('Top', position=[.5, .5, 1] @ Jld, fontTexture=threed.txFont1, fontColor='#FF0000') )\n",
    "objects.append ( threed.billboard ('Front', position=[.5, 0, .5] @ Jld, rotation=threed.lookAt([0,-1,0],[0,0,-1]), fontTexture=threed.txFont2, fontColor='#FFFF00') )\n",
    "threed.render (objects, '30', '270')"
   ]
  },
  {
   "cell_type": "markdown",
   "id": "e269a7b4-b81e-4aaf-a7a4-a6a0449b020f",
   "metadata": {},
   "source": [
    "## Example 5: More examples"
   ]
  },
  {
   "cell_type": "code",
   "execution_count": 15,
   "id": "62802ba8-c1bc-49c3-8a99-3ed198b9339c",
   "metadata": {
    "tags": []
   },
   "outputs": [],
   "source": [
    "import importlib; importlib.reload (threed);  # Developer use"
   ]
  },
  {
   "cell_type": "code",
   "execution_count": 16,
   "id": "36d2d92b-9c58-4e24-b2eb-d7f11270208b",
   "metadata": {
    "tags": []
   },
   "outputs": [
    {
     "data": {
      "application/vnd.jupyter.widget-view+json": {
       "model_id": "a003fcb90cbb4ecf9fd300b93253818f",
       "version_major": 2,
       "version_minor": 0
      },
      "text/plain": [
       "Renderer(camera=PerspectiveCamera(aspect=1.3333333333333333, children=(DirectionalLight(color='#FFFFFF', posit…"
      ]
     },
     "execution_count": 16,
     "metadata": {},
     "output_type": "execute_result"
    }
   ],
   "source": [
    "objects = []\n",
    "points = np.array([[0,0,0],[2,0,0],[0,2,0],[0,0,2],[0,2,2],[2,2,0],[2,0,2],[2,2,2],[1,1,1]])\n",
    "[objects.append ( threed.sphere (point, radius=np.sqrt(.75), color='#999999') ) for point in points]\n",
    "objects.append ( threed.billboard (\"l'Atomium\", position=[1.0, -1.2,0]) )  # add text\n",
    "objects.append ( threed.billboard ('Fe', position=[2.0, 2.0, 2.9]) )     # add more text\n",
    "threed.render (objects, '60', '270', zoomOut=1.5)"
   ]
  },
  {
   "cell_type": "code",
   "execution_count": 17,
   "id": "2d20a9e6-974e-4f34-a8ed-8c1547558140",
   "metadata": {
    "tags": []
   },
   "outputs": [
    {
     "data": {
      "application/vnd.jupyter.widget-view+json": {
       "model_id": "a687b2b66eb24249b68ca9b1d62afc3a",
       "version_major": 2,
       "version_minor": 0
      },
      "text/plain": [
       "Renderer(camera=PerspectiveCamera(aspect=1.3333333333333333, children=(DirectionalLight(color='#FFFFFF', posit…"
      ]
     },
     "execution_count": 17,
     "metadata": {},
     "output_type": "execute_result"
    }
   ],
   "source": [
    "objects = []\n",
    "objects.append ( threed.billboard ('Red fish', position=[1, -1, 0], fontColor='red') )  # add text\n",
    "objects.append ( threed.billboard ('Blue fish', position=[1, -2, 0], fontColor='blue') )  # add text\n",
    "objects.append ( threed.billboard ('Yellow on black', position=[1, -3, 0], fontColor='#FFFF99', fontTexture=threed.txFont2) )  # add text\n",
    "threed.render (objects, '60', '270', zoomOut=1.5)"
   ]
  },
  {
   "cell_type": "code",
   "execution_count": 116,
   "id": "a907f600-4d10-4c4b-9a47-8afb13ea7846",
   "metadata": {},
   "outputs": [],
   "source": [
    "importlib.reload (threed);  # Developer use"
   ]
  },
  {
   "cell_type": "code",
   "execution_count": 117,
   "id": "59232170-00ee-4ae8-a55b-3b7380ca1d2f",
   "metadata": {},
   "outputs": [
    {
     "data": {
      "application/vnd.jupyter.widget-view+json": {
       "model_id": "f60cd3541a544324938a1ea8f9825b6a",
       "version_major": 2,
       "version_minor": 0
      },
      "text/plain": [
       "Renderer(camera=PerspectiveCamera(aspect=1.3333333333333333, children=(DirectionalLight(color='#FFFFFF', posit…"
      ]
     },
     "execution_count": 117,
     "metadata": {},
     "output_type": "execute_result"
    }
   ],
   "source": [
    "objects = []\n",
    "objects.append ( threed.tripod(length=1,radius=.04) )\n",
    "objects.append ( threed.box(1,1,1))\n",
    "mesh = threed.torus (3, .5, color='#FF9900', tubularSegments=48)\n",
    "mesh.quaternion = threed.quatUToV ([0,0,1], [1,0,0])   # rotate torus so that its [001] axis actually points along [100]\n",
    "objects.append ( mesh )\n",
    "threed.render (objects, camDist=9)"
   ]
  },
  {
   "cell_type": "code",
   "execution_count": 115,
   "id": "7f67dbcd-565c-41f6-bbb7-733217c03b27",
   "metadata": {},
   "outputs": [
    {
     "data": {
      "application/vnd.jupyter.widget-view+json": {
       "model_id": "f6d98ce60ec84b6cb52743df13de0478",
       "version_major": 2,
       "version_minor": 0
      },
      "text/plain": [
       "Renderer(camera=PerspectiveCamera(aspect=1.3333333333333333, children=(DirectionalLight(color='#FFFFFF', posit…"
      ]
     },
     "execution_count": 115,
     "metadata": {},
     "output_type": "execute_result"
    }
   ],
   "source": [
    "objects = []\n",
    "theta = np.radians(60)\n",
    "phi   = np.radians(60)\n",
    "adir  = (np.sin(theta)*np.cos(phi), np.sin(theta)*np.sin(phi), np.cos(theta))\n",
    "objects.append ( threed.arrow ([0,0,0], adir, radShaft=.03, radHead=.06, fracShaft=.8, radialSegments=48, color='#FFCCFF') )\n",
    "mesh = threed.torus (1, .02, color='#FF9900', tubularSegments=48); objects.append ( mesh )\n",
    "mesh = threed.torus (1, .02, color='#999999', tubularSegments=48); mesh.quaternion = threed.quatUToV ([0,0,1], [1,0,0]); objects.append ( mesh )\n",
    "mesh = threed.torus (1, .02, color='#999999', tubularSegments=48); mesh.quaternion = threed.quatUToV ([0,0,1], [0,1,0]); objects.append ( mesh )\n",
    "mesh = threed.torus (np.sin(theta), .01, color='#999999', tubularSegments=48);mesh.position=[0,0,np.cos(theta)]; objects.append ( mesh )\n",
    "threed.render (objects, camDist=3)"
   ]
  },
  {
   "cell_type": "code",
   "execution_count": 119,
   "id": "d6f3398b-c8ab-4205-b42c-acd1520e9d31",
   "metadata": {},
   "outputs": [
    {
     "data": {
      "application/vnd.jupyter.widget-view+json": {
       "model_id": "59fb8350f1bd45a3ba496ba8a3a5712e",
       "version_major": 2,
       "version_minor": 0
      },
      "text/plain": [
       "CircleGeometry()"
      ]
     },
     "execution_count": 119,
     "metadata": {},
     "output_type": "execute_result"
    }
   ],
   "source": [
    "p3j.CircleGeometry(radius=1, segments=8, thetaStart=0, thetaLength=6.283185307179586)"
   ]
  },
  {
   "cell_type": "code",
   "execution_count": null,
   "id": "bdcd2e3f-f592-4f98-a3f4-73baa7d170fc",
   "metadata": {},
   "outputs": [],
   "source": []
  }
 ],
 "metadata": {
  "kernelspec": {
   "display_name": "Python 3 (ipykernel)",
   "language": "python",
   "name": "python3"
  },
  "language_info": {
   "codemirror_mode": {
    "name": "ipython",
    "version": 3
   },
   "file_extension": ".py",
   "mimetype": "text/x-python",
   "name": "python",
   "nbconvert_exporter": "python",
   "pygments_lexer": "ipython3",
   "version": "3.11.3"
  }
 },
 "nbformat": 4,
 "nbformat_minor": 5
}
