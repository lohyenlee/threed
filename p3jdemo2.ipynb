{
 "cells": [
  {
   "cell_type": "markdown",
   "id": "9489a042-4c22-45da-95ce-b5d6da96897f",
   "metadata": {},
   "source": [
    "# 3D Graphics in JupyterLab using pythreejs: Part 2"
   ]
  },
  {
   "cell_type": "markdown",
   "id": "213eae4e-df9d-49f8-975d-70b6f3316842",
   "metadata": {},
   "source": [
    "*Yen Lee Loh (2023-5-16, 2023-6-8)*"
   ]
  },
  {
   "cell_type": "markdown",
   "id": "797b6942-7b7f-47e2-bec0-17bdc1ca0b65",
   "metadata": {},
   "source": [
    "On its own, pythreejs is inconvenient for various reasons:\n",
    "- pythreejs.TorusBufferGeometry creates a torus whose symmetry axis is the z axis.\n",
    "- pythreejs.CylinderBufferGeometry creates a frustum whose symmetry axis is the y axis.\n",
    "- It is not easy to reorient these shapes along desired directions.\n",
    "The `threed` module includes wrapper functions and utility functions to make 3D graphics easier."
   ]
  },
  {
   "cell_type": "markdown",
   "id": "f2239a42-43f4-4bed-ad6f-c01ca595c926",
   "metadata": {},
   "source": [
    "## Example 1: Draw a dumbbell using `threed.sphere` and `threed.cylinder`"
   ]
  },
  {
   "cell_type": "markdown",
   "id": "915d958f-fc27-4a97-8d0a-6a7e08f0627c",
   "metadata": {},
   "source": [
    "Make sure that `threed.py` and `monospace.png` are in the same directory as this notebook file.  Import the `threed` module:"
   ]
  },
  {
   "cell_type": "code",
   "execution_count": 1,
   "id": "abe84748-10c9-4cbc-8b6d-9d782665aa14",
   "metadata": {
    "tags": []
   },
   "outputs": [],
   "source": [
    "import threed\n",
    "import pythreejs as p3j"
   ]
  },
  {
   "cell_type": "code",
   "execution_count": 2,
   "id": "7d4bc6e6-479d-431d-b1ac-7e67896c6d89",
   "metadata": {
    "tags": []
   },
   "outputs": [],
   "source": [
    "import threed; import importlib; importlib.reload (threed);  # Developer use"
   ]
  },
  {
   "cell_type": "markdown",
   "id": "2b1bf7d3-2dab-4ec8-91a7-88f4f35b746c",
   "metadata": {},
   "source": [
    "Create a list called `objects` and populate it.  Each object is actually a `pythreejs.Mesh`.  As a quick test, combine the objects into a `pythreejs.Scene`:"
   ]
  },
  {
   "cell_type": "code",
   "execution_count": 40,
   "id": "40476521-c126-48b6-9042-390f16ef050c",
   "metadata": {
    "tags": []
   },
   "outputs": [
    {
     "data": {
      "application/vnd.jupyter.widget-view+json": {
       "model_id": "d5c22bec0e1248aba8c7fdb303858292",
       "version_major": 2,
       "version_minor": 0
      },
      "text/plain": [
       "Scene(children=(Mesh(geometry=SphereBufferGeometry(heightSegments=24, widthSegments=24), material=MeshPhongMat…"
      ]
     },
     "execution_count": 40,
     "metadata": {},
     "output_type": "execute_result"
    }
   ],
   "source": [
    "objects = []\n",
    "objects.append( threed.sphere([1,1,1], 0.5,color='#99FFFF') )\n",
    "objects.append( threed.sphere([2,2,2], 0.5,color='#FFFF99') )\n",
    "objects.append( threed.cylinder([1,1,1], [2,2,2], 0.2, color='#99FF99') )\n",
    "p3j.Scene(children=[*objects])"
   ]
  },
  {
   "cell_type": "markdown",
   "id": "c5194785-da9f-4e82-a568-e774e1debdd4",
   "metadata": {},
   "source": [
    "For serious work we need more control, so we will use `threed.render`.  This is actually a wrapper around `pythreejs.Renderer`:"
   ]
  },
  {
   "cell_type": "code",
   "execution_count": 41,
   "id": "d0611930-5044-403d-9442-43137a810798",
   "metadata": {
    "tags": []
   },
   "outputs": [
    {
     "data": {
      "application/vnd.jupyter.widget-view+json": {
       "model_id": "e3a4035ca2994b85a6ebb8bbb5517445",
       "version_major": 2,
       "version_minor": 0
      },
      "text/plain": [
       "Renderer(camera=PerspectiveCamera(aspect=2.6666666666666665, children=(DirectionalLight(color='#FFFFFF', posit…"
      ]
     },
     "execution_count": 41,
     "metadata": {},
     "output_type": "execute_result"
    }
   ],
   "source": [
    "threed.render (objects, imageSize=[640,240])"
   ]
  },
  {
   "cell_type": "markdown",
   "id": "7e642001-1137-4dad-af1c-331bf41053f6",
   "metadata": {},
   "source": [
    "## Example 2: Draw the Atomium"
   ]
  },
  {
   "cell_type": "markdown",
   "id": "6bcc2ba4-05ce-4dc3-ba17-173d0a1177f1",
   "metadata": {},
   "source": [
    "As before, create a list called `objects`, whose members are instances of `pythreejs.Mesh`, and pass it to `threed.render`:"
   ]
  },
  {
   "cell_type": "code",
   "execution_count": 42,
   "id": "dad1ec58-5af7-4d88-85d1-d43dfc04978d",
   "metadata": {
    "tags": []
   },
   "outputs": [],
   "source": [
    "import numpy as np\n",
    "objects = []\n",
    "objects.append ( threed.cylinder ([0,0,0], [4,0,0], radius=.2, color='#FF0000') ) # red x axis\n",
    "objects.append ( threed.cylinder ([0,0,0], [0,4,0], radius=.2, color='#00FF00') ) # green y axis\n",
    "objects.append ( threed.cylinder ([0,0,0], [0,0,4], radius=.2, color='#0000FF') ) # blue z axis\n",
    "points = np.array([[0,0,0],[2,0,0],[0,2,0],[0,0,2],[0,2,2],[2,2,0],[2,0,2],[2,2,2],[1,1,1]])\n",
    "for point in points:\n",
    "  objects.append ( threed.sphere (point, radius=np.sqrt(.75), color='#999999') )  "
   ]
  },
  {
   "cell_type": "code",
   "execution_count": 43,
   "id": "cdba0343-8bf3-4f89-8630-42ac025515a4",
   "metadata": {
    "tags": []
   },
   "outputs": [
    {
     "data": {
      "application/vnd.jupyter.widget-view+json": {
       "model_id": "07642155a53b452aa82b87b1170b6eee",
       "version_major": 2,
       "version_minor": 0
      },
      "text/plain": [
       "Renderer(camera=PerspectiveCamera(aspect=1.3333333333333333, children=(DirectionalLight(color='#FFFFFF', posit…"
      ]
     },
     "execution_count": 43,
     "metadata": {},
     "output_type": "execute_result"
    }
   ],
   "source": [
    "threed.render (objects)"
   ]
  },
  {
   "cell_type": "markdown",
   "id": "b3dc2282-1dd3-452b-b6fa-794f04cfd0b2",
   "metadata": {},
   "source": [
    "For more control, set the camera orientation and other parameters:"
   ]
  },
  {
   "cell_type": "code",
   "execution_count": 46,
   "id": "a52f3a3b-0301-42e8-b466-a24702163e10",
   "metadata": {
    "tags": []
   },
   "outputs": [
    {
     "data": {
      "application/vnd.jupyter.widget-view+json": {
       "model_id": "81bc232f3c494f76895d8e3ea57c6c73",
       "version_major": 2,
       "version_minor": 0
      },
      "text/plain": [
       "Renderer(camera=PerspectiveCamera(aspect=1.3333333333333333, children=(DirectionalLight(color='#FFFFFF', posit…"
      ]
     },
     "execution_count": 46,
     "metadata": {},
     "output_type": "execute_result"
    }
   ],
   "source": [
    "threed.render (objects, \n",
    "               camFov=np.radians(120),   # wide field of view leads to considerable distortion\n",
    "               camOri=threed.chooseCameraOrientation (e=np.radians(20), a=np.radians(60)))"
   ]
  },
  {
   "cell_type": "code",
   "execution_count": 8,
   "id": "ecb55684-0c7e-4b2c-be7b-029c8f9248b3",
   "metadata": {
    "tags": []
   },
   "outputs": [
    {
     "data": {
      "application/vnd.jupyter.widget-view+json": {
       "model_id": "2df89da5c8124cda8878fb175d3946be",
       "version_major": 2,
       "version_minor": 0
      },
      "text/plain": [
       "Renderer(camera=PerspectiveCamera(aspect=1.3333333333333333, children=(DirectionalLight(color='#FFFFFF', posit…"
      ]
     },
     "execution_count": 8,
     "metadata": {},
     "output_type": "execute_result"
    }
   ],
   "source": [
    "Jld = np.diag([5,4,1])\n",
    "objects = []\n",
    "rnd = np.array([[0,0,0],[1,0,0],[0,1,0],[0,0,1],[0,1,1],[1,1,0],[1,0,1],[1,1,1]]) @ Jld # bounding box corners\n",
    "#======== Add spheres at corners of cuboid\n",
    "for rd in rnd:\n",
    "  objects.append ( threed.sphere (rd, radius=.5, color='#9999FF') ) # mark each corner\n",
    "#======== Add cylinders along edges of cuboid\n",
    "for u in [0,1]:\n",
    "  for v in [0,1]:\n",
    "    for w in [0,1,2]:\n",
    "      rdA = np.roll ([u,v,0], w) @ Jld\n",
    "      rdB = np.roll ([u,v,1], w) @ Jld\n",
    "      objects.append ( threed.cylinder (rdA, rdB, radius=.2, color='#99FF99') )\n",
    "threed.render (objects, zoomOut=1)"
   ]
  },
  {
   "cell_type": "markdown",
   "id": "e269a7b4-b81e-4aaf-a7a4-a6a0449b020f",
   "metadata": {},
   "source": [
    "## Example 3: Text"
   ]
  },
  {
   "cell_type": "code",
   "execution_count": 27,
   "id": "feffca2b-eda9-406c-9c72-c83a860ade82",
   "metadata": {
    "tags": []
   },
   "outputs": [],
   "source": [
    "import threed; import importlib; importlib.reload (threed);  # Developer use"
   ]
  },
  {
   "cell_type": "code",
   "execution_count": 68,
   "id": "36d2d92b-9c58-4e24-b2eb-d7f11270208b",
   "metadata": {
    "tags": []
   },
   "outputs": [
    {
     "name": "stdout",
     "output_type": "stream",
     "text": [
      "Setting camOri according to elev and azim\n"
     ]
    },
    {
     "data": {
      "application/vnd.jupyter.widget-view+json": {
       "model_id": "7ac6d20708fd4e8094cf23ee228b9a39",
       "version_major": 2,
       "version_minor": 0
      },
      "text/plain": [
       "Renderer(camera=PerspectiveCamera(aspect=1.3333333333333333, children=(DirectionalLight(color='#FFFFFF', posit…"
      ]
     },
     "execution_count": 68,
     "metadata": {},
     "output_type": "execute_result"
    }
   ],
   "source": [
    "objects = []\n",
    "objects.append ( threed.cylinder ([0,0,0], [4,0,0], radius=.2, color='#FF0000') ) # red x axis\n",
    "objects.append ( threed.cylinder ([0,0,0], [0,4,0], radius=.2, color='#00FF00') ) # green y axis\n",
    "objects.append ( threed.cylinder ([0,0,0], [0,0,4], radius=.2, color='#0000FF') ) # blue z axis\n",
    "points = np.array([[0,0,0],[2,0,0],[0,2,0],[0,0,2],[0,2,2],[2,2,0],[2,0,2],[2,2,2],[1,1,1]])\n",
    "for point in points:\n",
    "  objects.append ( threed.sphere (point, radius=np.sqrt(.75), color='#999999') )  \n",
    "objects.append ( threed.billboard ('Atomium', position=[1.0, -1.2,0]) )  # add text\n",
    "objects.append ( threed.billboard ('Fe', position=[2.0, 2.0, 2.9]) )     # add more text\n",
    "threed.render (objects, elev=np.radians(60), azim=np.radians(270))       # almost a bird's eye view "
   ]
  },
  {
   "cell_type": "markdown",
   "id": "5ecb11ee-46a8-4c24-a210-aa00a3d9c66f",
   "metadata": {
    "jp-MarkdownHeadingCollapsed": true,
    "tags": []
   },
   "source": [
    "## Stock"
   ]
  },
  {
   "cell_type": "markdown",
   "id": "a637ac9a-86bb-4075-91b2-52cbb5499298",
   "metadata": {},
   "source": [
    "For a perspective camera, we are given the vertical angular field of view (FoV) $\\beta$, which is typically 50 degrees, and the aspect ratio of the camera view $Y/X$.\n",
    "Let $q = \\cot\\frac{\\beta}{2}$ and $p = \\frac{X}{Y} \\cot\\frac{\\beta}{2}$.\n",
    "\n",
    "Now, take the bounding box corners $r_{nd}$ and perform the following.\n",
    "1. Translate so that view center is at origin.\n",
    "2. Rotate about origin so that viewing direction is (0,0,-1).\n",
    "3. For each coordinate $(x_d,y_d,z_d)$, calculate $z_n + \\max (p \\left|x_n\\right|, q \\left|y_n\\right|)$\n",
    "4. Set the view distance to be $z = \\max_n z_n$.  That is, put the camera position at CoM - ..."
   ]
  },
  {
   "cell_type": "code",
   "execution_count": null,
   "id": "6315ef65-a8cb-4a63-80e8-09427b32fff5",
   "metadata": {},
   "outputs": [],
   "source": [
    "# np.set_printoptions (precision=2,floatmode='fixed',suppress=True)"
   ]
  },
  {
   "cell_type": "code",
   "execution_count": null,
   "id": "263d9bd9-4c3b-4d18-aeb4-015b4b7754f4",
   "metadata": {},
   "outputs": [],
   "source": [
    "# for pointA,pointB in itertools.combinations (points, 2):\n",
    "#   if np.linalg.norm(pointB - pointA) < 5.01:\n",
    "#     objects.append ( threed.cylinder (pointA, pointB, radius=.2, color='#99FF99') )"
   ]
  }
 ],
 "metadata": {
  "kernelspec": {
   "display_name": "Python 3 (ipykernel)",
   "language": "python",
   "name": "python3"
  },
  "language_info": {
   "codemirror_mode": {
    "name": "ipython",
    "version": 3
   },
   "file_extension": ".py",
   "mimetype": "text/x-python",
   "name": "python",
   "nbconvert_exporter": "python",
   "pygments_lexer": "ipython3",
   "version": "3.11.3"
  }
 },
 "nbformat": 4,
 "nbformat_minor": 5
}
